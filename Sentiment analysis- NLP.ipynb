{
 "cells": [
  {
   "cell_type": "markdown",
   "metadata": {},
   "source": [
    "# Sentimental Analysis for NLP"
   ]
  },
  {
   "cell_type": "code",
   "execution_count": 1,
   "metadata": {},
   "outputs": [],
   "source": [
    "#import libraries\n",
    "import pandas as pd\n",
    "import numpy as np\n",
    "import string\n",
    "from sklearn.feature_extraction import text\n",
    "from sklearn.feature_extraction.text import CountVectorizer, TfidfVectorizer\n",
    "#from sklearn.linear_model import LogisticRegression, SGDClassifier\n",
    "from sklearn.svm import  LinearSVC\n",
    "from sklearn import svm\n",
    "from sklearn.metrics import accuracy_score, confusion_matrix, classification_report\n",
    "from nltk.stem.snowball import SnowballStemmer\n",
    "import nltk\n",
    "from nltk.tokenize import sent_tokenize, word_tokenize\n",
    "from sklearn.naive_bayes import MultinomialNB\n",
    "import seaborn as sn\n",
    "import matplotlib.pyplot as plt\n",
    "#from sklearn.naive_bayes import GaussianNB\n",
    "#from sklearn.naive_bayes import  BernoulliNB\n",
    "#from sklearn.naive_bayes import  ComplementNB"
   ]
  },
  {
   "cell_type": "markdown",
   "metadata": {},
   "source": [
    "## Functions to be used in this program"
   ]
  },
  {
   "cell_type": "code",
   "execution_count": 2,
   "metadata": {},
   "outputs": [],
   "source": [
    "def count_digits(string):\n",
    "    \"\"\"Counts digits in pandas column\"\"\"\n",
    "    return sum(item.isdigit() for item in string)\n",
    "\n",
    "def dedupe_list(x):\n",
    "    \"\"\"Dedupes a list\"\"\"\n",
    "    return list(dict.fromkeys(x))\n"
   ]
  },
  {
   "cell_type": "markdown",
   "metadata": {},
   "source": [
    "## Step 1. Data preparation & understanding\n",
    "\n",
    "1. Check NAs\n",
    "2. Remove puncutation and digits\n",
    "3. Exclude words that are not likely to affect sentiment\n",
    "4. Ensure program is not case sensitive: will put everything to lower case in this instance. Also considered using str.casefold()\n",
    "5. Stemming\n",
    "7. Train and test split\n",
    "6. Vectorisation\n"
   ]
  },
  {
   "cell_type": "markdown",
   "metadata": {},
   "source": [
    "#### 1.1. Firstly I will look at the data - how many rows it has, also check for NAs"
   ]
  },
  {
   "cell_type": "code",
   "execution_count": 3,
   "metadata": {},
   "outputs": [
    {
     "name": "stdout",
     "output_type": "stream",
     "text": [
      "Total number of rows: 1382\n",
      "Number of NAs in the rviews file: 0\n"
     ]
    }
   ],
   "source": [
    "#import data\n",
    "reviews = pd.read_csv('car_reviews.csv')\n",
    "#create and id\n",
    "reviews[\"id\"] = np.arange(len(reviews))\n",
    "# create a random number that will be used for test & train split:\n",
    "reviews['randNumCol'] = np.random.randint(1,100, size=len(reviews))\n",
    "print(\"Total number of rows:\", len(reviews))\n",
    "print(\"Number of NAs in the rviews file:\", len(reviews) - len(reviews.dropna()))"
   ]
  },
  {
   "cell_type": "markdown",
   "metadata": {},
   "source": [
    "#### 1.2,1.3 and 1.4. Remove punctuation and digits, exclude non significant words, ensure program is not case sensitive\n",
    "\n",
    "To show punctuation removal I will count total. Punctation to be removed: '!\"#$%&\\'()*+,-./:;<=>?@[\\\\]^_`{|}~' \n",
    "\n",
    "Chose to remove digits too as probably unlikely to affect the review and might make it difficult for the classifier to handle.\n"
   ]
  },
  {
   "cell_type": "code",
   "execution_count": 4,
   "metadata": {},
   "outputs": [
    {
     "name": "stdout",
     "output_type": "stream",
     "text": [
      "Total punctuation count before removal: 2\n",
      "Total digit count before removal: 37713\n"
     ]
    }
   ],
   "source": [
    "#Count puncation and digits\n",
    "count = lambda l1,l2: sum([1 for x in l1 if x in l2])\n",
    "reviews['count_punct'] = reviews.Review.apply(lambda s: count(s, string.punctuation))\n",
    "reviews['count_digits'] = reviews['Review'].apply(count_digits)\n",
    "print(\"Total punctuation count before removal:\", reviews['count_punct'].sum())\n",
    "print(\"Total digit count before removal:\", reviews['count_digits'].sum())"
   ]
  },
  {
   "cell_type": "raw",
   "metadata": {},
   "source": [
    " "
   ]
  },
  {
   "cell_type": "markdown",
   "metadata": {},
   "source": [
    "It appears punctuation has been removed from the initial csv file. I will apply punctuation removal function anyway as it is good practice - in case a different csv file is tested. I have created a separate column so we can compare punctuation and digit counts before and after.\n",
    "To produce the output to clearly demonstarte that words and punctuation, which are unlikely to affect sentiment, have been excluded from sentiment classfier AND that the remaining words are handled in a case sensitive way. "
   ]
  },
  {
   "cell_type": "code",
   "execution_count": 5,
   "metadata": {},
   "outputs": [
    {
     "name": "stderr",
     "output_type": "stream",
     "text": [
      "C:\\Users\\vinod munirajaiah\\anaconda3\\lib\\site-packages\\ipykernel_launcher.py:2: FutureWarning: The default value of regex will change from True to False in a future version.\n",
      "  \n",
      "C:\\Users\\vinod munirajaiah\\anaconda3\\lib\\site-packages\\ipykernel_launcher.py:6: FutureWarning: The default value of regex will change from True to False in a future version.\n",
      "  \n"
     ]
    },
    {
     "name": "stdout",
     "output_type": "stream",
     "text": [
      "Total punctuation count after removal: 2\n",
      "Total digit count after removal: 0\n",
      "\n",
      "Example before punctuation and digit removal and converting to lower case:\n",
      "0     In ?1992 we !bought a new Taurus and we reall...\n",
      "1     The last business trip  I drove to San Franci...\n",
      "2     My husband and I purchased a 1990 Ford F250 a...\n",
      "3     I feel I have a thorough opinion of this truc...\n",
      "4     AS a mother of 3  all of whom are still in ca...\n",
      "Name: Review, dtype: object\n",
      "\n",
      "Example after punctuation and digit removal and converting to lower case:\n",
      "0    bought new taurus really loved decided try new...\n",
      "1    business trip drove san francisco went hertz r...\n",
      "2    husband purchased ford f problems owned vehicl...\n",
      "3    feel thorough opinion truck compared post eval...\n",
      "4    mother carseats logical thing trade sx minivan...\n",
      "Name: review_clean_without_stopwords, dtype: object\n"
     ]
    }
   ],
   "source": [
    "#remove punctuation and make all lower case\n",
    "reviews[\"review_clean\"] = reviews['Review'].str.replace('[^\\w\\s]','').str.lower()\n",
    "reviews['count_punct'] = reviews.Review.apply(lambda s: count(s, string.punctuation))\n",
    "print(\"Total punctuation count after removal:\", reviews['count_punct'].sum())\n",
    "#remove digits\n",
    "reviews['review_clean'] = reviews['review_clean'].str.replace('\\d+', '')\n",
    "reviews['count_digits'] = reviews['review_clean'].apply(count_digits)\n",
    "print(\"Total digit count after removal:\", reviews['count_digits'].sum())\n",
    "\n",
    "\n",
    "#reviews['review_clean'] = reviews['review_clean'].str.lower()\n",
    "#remove stop words\n",
    "stop = text.ENGLISH_STOP_WORDS\n",
    "reviews['review_clean_without_stopwords'] = reviews['review_clean'].apply(lambda x: ' '.join([word for word in x.split() if word not in (stop)]))\n",
    "print()\n",
    "print(\"Example before punctuation and digit removal and converting to lower case:\")\n",
    "print(reviews[\"Review\"].head())\n",
    "print()\n",
    "print(\"Example after punctuation and digit removal and converting to lower case:\")\n",
    "print(reviews[\"review_clean_without_stopwords\"].head())\n"
   ]
  },
  {
   "cell_type": "markdown",
   "metadata": {},
   "source": [
    " "
   ]
  },
  {
   "cell_type": "markdown",
   "metadata": {},
   "source": [
    " ### 1.5. Stemming"
   ]
  },
  {
   "attachments": {
    "aecbb8b0-4ad1-4ff6-b9d9-6e382ae91057.png": {
     "image/png": "[encoded data removed]"
    }
   },
   "cell_type": "markdown",
   "metadata": {},
   "source": [
    "After removing digits, I can see some \"words\" have become i letter words - for exampke, Ford250 became f (row index 2 is an example). I will remove any 1 letter words.\n",
    "For stemming I chose Snowball stemmer as it is more aggresive than PorterStemmer and more stable than LancasterStemmer. \n",
    "Commas are INTENTIONALLY added between each word (tokenized) for stemming purpose and review_clean_without_stopwords becomes a list.\n",
    "The process is:\n",
    "1. Show how the chosen stemmer works for the mark: I have chosen a singlle review to illustrate the point - also handpicked few stems\n",
    "2. Remove 1 letter words\n",
    "3. Apply stemmer\n",
    "4. Print before and after examples to further show it works\n",
    "\n",
    "Screen grab below in case the order of rows changes for some reason.\n",
    "\n",
    "![image.png](attachment:aecbb8b0-4ad1-4ff6-b9d9-6e382ae91057.png)"
   ]
  },
  {
   "cell_type": "markdown",
   "metadata": {},
   "source": [
    " "
   ]
  },
  {
   "cell_type": "markdown",
   "metadata": {},
   "source": [
    "----Firstly, show that chosen stemming technique works based on example in the given csv----"
   ]
  },
  {
   "cell_type": "code",
   "execution_count": 6,
   "metadata": {},
   "outputs": [
    {
     "name": "stdout",
     "output_type": "stream",
     "text": [
      "Initial word        Stem                \n",
      "--------------    ---------\n",
      "cars                car                 \n",
      "comparable          compar              \n",
      "compared            compar              \n",
      "conditioning        condit              \n",
      "conditions          condit              \n",
      "install             instal              \n",
      "installed           instal              \n",
      "seating             seat                \n",
      "vehicle             vehicl              \n",
      "vehicles            vehicl              \n",
      "warranties          warranti            \n",
      "warranty            warranti            \n"
     ]
    }
   ],
   "source": [
    "#Show how the chosen stemmer works for the mark\n",
    "stem_test=reviews['review_clean_without_stopwords'].iloc[3] # select a review to illustarte stemmimg\n",
    "stem_test_tokens = sorted(dedupe_list(stem_test.split())) #sorting and deduping list for simpler reading\n",
    "\n",
    "print(\"{0:20}{1:20}\".format(\"Initial word\",\"Stem\"))\n",
    "print(\"--------------    ---------\")\n",
    "stemmer =SnowballStemmer(\"english\")\n",
    "for word in stem_test_tokens:\n",
    "    if word != stemmer.stem(word): # only showing different words\n",
    "        if stemmer.stem(word) in [\"compar\",\"condit\",\"instal\",\"warranti\",\"vehicl\",\"car\",\"seat\"]: # manually picked few more common words in this review\n",
    "            print (\"{0:20}{1:20}\".format(word, stemmer.stem(word)))"
   ]
  },
  {
   "cell_type": "markdown",
   "metadata": {},
   "source": [
    " "
   ]
  },
  {
   "cell_type": "markdown",
   "metadata": {},
   "source": [
    "----Secondly, apply stemming to each review -----"
   ]
  },
  {
   "cell_type": "code",
   "execution_count": 7,
   "metadata": {},
   "outputs": [
    {
     "name": "stderr",
     "output_type": "stream",
     "text": [
      "C:\\Users\\vinod munirajaiah\\anaconda3\\lib\\site-packages\\ipykernel_launcher.py:2: FutureWarning: The default value of regex will change from True to False in a future version.\n",
      "  \n"
     ]
    },
    {
     "name": "stdout",
     "output_type": "stream",
     "text": [
      "Example before stemming\n",
      "0    bought new taurus really loved decided try new...\n",
      "1    business trip drove san francisco went hertz r...\n",
      "2    husband purchased ford problems owned vehicle ...\n",
      "3    feel thorough opinion truck compared post eval...\n",
      "4    mother carseats logical thing trade sx minivan...\n",
      "Name: review_clean_without_stopwords, dtype: object\n",
      "\n",
      "Example after stemming\n",
      "0    [bought, new, taurus, realli, love, decid, tri...\n",
      "1    [busi, trip, drove, san, francisco, went, hert...\n",
      "2    [husband, purchas, ford, problem, own, vehicl,...\n",
      "3    [feel, thorough, opinion, truck, compar, post,...\n",
      "4    [mother, carseat, logic, thing, trade, sx, min...\n",
      "Name: stemmed, dtype: object\n"
     ]
    }
   ],
   "source": [
    "# remove any 1 letter words - as defined above\n",
    "reviews['review_clean_without_stopwords'] = reviews['review_clean_without_stopwords'].str.replace(r'\\b\\w\\b','').str.replace(r'\\s+', ' ')\n",
    "#set stemmer\n",
    "stemmer = SnowballStemmer(\"english\")\n",
    "#apply stemmer\n",
    "reviews['stemmed'] = reviews['review_clean_without_stopwords'].str.split().apply(lambda x: [stemmer.stem(y) for y in x]) # Stem every word.\n",
    "print(\"Example before stemming\")\n",
    "print(reviews[\"review_clean_without_stopwords\"].head())\n",
    "print()\n",
    "print(\"Example after stemming\")\n",
    "print(reviews[\"stemmed\"].head())"
   ]
  },
  {
   "cell_type": "markdown",
   "metadata": {},
   "source": [
    "### 1.6. Split into test and train\n",
    "This has to be done before vectorisation to avoid data leakage. \n",
    "First, we need to make sure the data is in the right shape, need to unlist the tokens within each column for each review.\n",
    "\n"
   ]
  },
  {
   "cell_type": "code",
   "execution_count": 8,
   "metadata": {},
   "outputs": [
    {
     "name": "stdout",
     "output_type": "stream",
     "text": [
      "Putting list into string, will introduce punctuation..\n",
      "\n",
      "Total punctuation count before removal: 0\n",
      "\n"
     ]
    },
    {
     "name": "stderr",
     "output_type": "stream",
     "text": [
      "C:\\Users\\vinod munirajaiah\\anaconda3\\lib\\site-packages\\ipykernel_launcher.py:7: FutureWarning: The default value of regex will change from True to False in a future version.\n",
      "  import sys\n"
     ]
    },
    {
     "name": "stdout",
     "output_type": "stream",
     "text": [
      "Total punctuation count after removal: 0\n",
      "0       bought new taurus realli love decid tri new ta...\n",
      "1       busi trip drove san francisco went hertz renta...\n",
      "2       husband purchas ford problem own vehicl approx...\n",
      "3       feel thorough opinion truck compar post evalu ...\n",
      "4       mother carseat logic thing trade sx minivan mi...\n",
      "                              ...                        \n",
      "1377    june bought soni limit edit focus se dr sedan ...\n",
      "1378    mile decid replac wife toyota camri new camri ...\n",
      "1379    ford focus great littl record set car car win ...\n",
      "1380    need new car hyundai excel decid shop nice sma...\n",
      "1381    ford focus se door sedan spacious interior sol...\n",
      "Name: stemmed, Length: 1382, dtype: object\n"
     ]
    }
   ],
   "source": [
    "print(\"Putting list into string, will introduce punctuation..\")\n",
    "print()\n",
    "reviews['count_punct'] = reviews.stemmed.apply(lambda s: count(s, string.punctuation))\n",
    "print(\"Total punctuation count before removal:\", reviews['count_punct'].sum())\n",
    "print()\n",
    "reviews['stemmed']= reviews['stemmed'].apply(', '.join)\n",
    "reviews[\"stemmed\"] = reviews['stemmed'].str.replace('[^\\w\\s]','').str.lower()\n",
    "reviews['count_punct'] = reviews.stemmed.apply(lambda s: count(s, string.punctuation))\n",
    "print(\"Total punctuation count after removal:\", reviews['count_punct'].sum())\n",
    "print(reviews['stemmed'])"
   ]
  },
  {
   "cell_type": "markdown",
   "metadata": {},
   "source": [
    " \n",
    "     "
   ]
  },
  {
   "cell_type": "markdown",
   "metadata": {},
   "source": [
    "Now will split into test and Train. \n",
    "Please note a separate column with a random number was created when the file was read in - column names \"randNumCol\". 80 is the % cutoff as per task spec. \n",
    "First, we sort values by the random column, then we select train and test."
   ]
  },
  {
   "cell_type": "code",
   "execution_count": 9,
   "metadata": {},
   "outputs": [
    {
     "name": "stdout",
     "output_type": "stream",
     "text": [
      "1106.0\n",
      "276.0\n",
      "383    own coupl ford taurus great roadtrip long comm...\n",
      "837    ve ranger bought consid great invest contracto...\n",
      "186    ford explor taken lot heat media late great pr...\n",
      "985    vehicl car own motorcycl motorhom pickup truck...\n",
      "475    rememb groceri store came generic can good qui...\n",
      "                             ...                        \n",
      "138    son bought ford ranger month ago doubt use car...\n",
      "98     bought vehicl use mile modest los angel look g...\n",
      "617    own american car bought ford zx year old son d...\n",
      "614    recent went test drove puppi random thought ex...\n",
      "165    amaz internet resourc realiz wide spread probl...\n",
      "Name: stemmed, Length: 1106, dtype: object\n",
      "383    Neg\n",
      "837    Pos\n",
      "186    Neg\n",
      "985    Pos\n",
      "475    Neg\n",
      "      ... \n",
      "138    Neg\n",
      "98     Neg\n",
      "617    Neg\n",
      "614    Neg\n",
      "165    Neg\n",
      "Name: Sentiment, Length: 1106, dtype: object\n",
      "383     own coupl ford taurus great roadtrip long comm...\n",
      "837     ve ranger bought consid great invest contracto...\n",
      "186     ford explor taken lot heat media late great pr...\n",
      "985     vehicl car own motorcycl motorhom pickup truck...\n",
      "475     rememb groceri store came generic can good qui...\n",
      "                              ...                        \n",
      "317     updat jan hello updat windstar review requir t...\n",
      "907     bought ford contour happi smaller car door goo...\n",
      "818     im publish review consid purchas model ford co...\n",
      "1014    born old drive miss special experi own drive d...\n",
      "1049    told drive station wagon year probabl laugh st...\n",
      "Name: stemmed, Length: 276, dtype: object\n",
      "383     Neg\n",
      "837     Pos\n",
      "186     Neg\n",
      "985     Pos\n",
      "475     Neg\n",
      "       ... \n",
      "317     Neg\n",
      "907     Pos\n",
      "818     Pos\n",
      "1014    Pos\n",
      "1049    Pos\n",
      "Name: Sentiment, Length: 276, dtype: object\n"
     ]
    }
   ],
   "source": [
    "reviews = reviews.sort_values(by=['randNumCol'])\n",
    "train_size = round(len(reviews)*0.8,0)\n",
    "test_size = len(reviews)-train_size\n",
    "print(train_size)\n",
    "print(test_size)\n",
    "train_x =  reviews[:int(train_size)][\"stemmed\"]\n",
    "train_y = reviews[:int(train_size)]['Sentiment']\n",
    "test_x = reviews[:int(test_size)]['stemmed'] \n",
    "test_y = reviews[:int(test_size)]['Sentiment']\n",
    "print(train_x)\n",
    "print(train_y)\n",
    "print(test_x)\n",
    "print(test_y)\n"
   ]
  },
  {
   "cell_type": "markdown",
   "metadata": {},
   "source": [
    " "
   ]
  },
  {
   "cell_type": "markdown",
   "metadata": {},
   "source": [
    "Printing out some summary stats for marks.."
   ]
  },
  {
   "cell_type": "code",
   "execution_count": 10,
   "metadata": {},
   "outputs": [
    {
     "name": "stdout",
     "output_type": "stream",
     "text": [
      "Checking train and validation split..\n",
      "Train:  80.0 % ,  1106  records.\n",
      "Test:  20.0 % ,  276  records.\n",
      "\n"
     ]
    }
   ],
   "source": [
    "print(\"Checking train and validation split..\")\n",
    "print(\"Train: \", round(len(train_x)/len(reviews)*100,0),\"%\", \", \",len(train_x), \" records.\")\n",
    "print(\"Test: \", round(len(test_y)/len(reviews)*100,0),\"%\", \", \",len(test_y), \" records.\")\n",
    "print()\n"
   ]
  },
  {
   "cell_type": "markdown",
   "metadata": {},
   "source": [
    " "
   ]
  },
  {
   "cell_type": "markdown",
   "metadata": {},
   "source": [
    "### 1.7. Vectorisation \n",
    "\n",
    "Use \"bag of words\" technique for cleaned up split data data. I will use numerical count of word as oppose to binary numbers.\n",
    "Firstly, I would like to understand how many unique words we are dealing with so we know expected vector length.\n",
    "Secondly, I will apply vectorisation to train dataset using CountVectorizer and exclude \"uncommon words\" - % to be excluded is trial and error:\n",
    "\n",
    "I have tried:\n",
    "- excluding bottom 1% of words reduces vector length by 79%: keeping 99% of words\n",
    "- excluding bottom 5% of words reduces vector length by 93%: keeping 95% of words.\n",
    "I have chosen to exclude bottom 5% of words, so my unique word count is reduced from 8772 to 611 (please note these numbers will vary each run due to random test and validation split, its the % that is important). I have double checked and this does not affect model accuracy.\n",
    "\n",
    "To avoid data leakage I apply vectorisation to the training dataset which creates a voculabulary based on training dataset alone (thats why its important to split test and train before Vectorisation). Then we apply the same vocabulary to testing dataset to get vectors to validate agains. \n",
    "To demonstarte that vocabularies are the same we will compare bagged word data frames for train and test. \n",
    "In addition, this will mean that any words that appear on testing BUT NOT TRAINING will be EXCLUDED from the model build - this is how my code copes with stems that appear in the test and not train dataset. This approach should work fine as test and train are selected at random and train is 4 times larger than test, we would not expect new \"significant\" words to appear in the test dataset."
   ]
  },
  {
   "cell_type": "code",
   "execution_count": 11,
   "metadata": {},
   "outputs": [
    {
     "name": "stdout",
     "output_type": "stream",
     "text": [
      "Training data set has  8865  unique words\n"
     ]
    }
   ],
   "source": [
    "#check unique words\n",
    "print(\"Training data set has \", len(pd.DataFrame(train_x).stemmed.apply(lambda x: pd.value_counts(x.split(\" \"))).sum(axis = 0)), \" unique words\")"
   ]
  },
  {
   "cell_type": "markdown",
   "metadata": {},
   "source": [
    " "
   ]
  },
  {
   "cell_type": "markdown",
   "metadata": {},
   "source": [
    "Vectorisation below. I have chosen to count the words and also exclude bottom 5% as per note above."
   ]
  },
  {
   "cell_type": "code",
   "execution_count": 12,
   "metadata": {},
   "outputs": [],
   "source": [
    "#I have tried different min_df, chosen 5%, might reduce for task 2\n",
    "vectorizer = CountVectorizer(min_df=0.05) #exclude bottom 5%\n",
    "\n",
    "# first, fit to traininf datastet\n",
    "train_x_vector = vectorizer.fit_transform(train_x)\n",
    "bagOFwords_train = pd.DataFrame(train_x_vector.toarray())\n",
    "bagOFwords_train.columns = vectorizer.get_feature_names()\n",
    "\n",
    "#then apply the same vectorisation to test data set to avoid data leakage\n",
    "test_x_vector = vectorizer.transform(test_x)\n",
    "bagOFwords_test = pd.DataFrame(test_x_vector.toarray())\n",
    "bagOFwords_test.columns = vectorizer.get_feature_names()\n"
   ]
  },
  {
   "cell_type": "markdown",
   "metadata": {},
   "source": [
    " "
   ]
  },
  {
   "cell_type": "markdown",
   "metadata": {},
   "source": [
    "Show that the same vobulary has been applied to test dataset by \n",
    "- comparing number of columns (which are unique words in the train dataset) in train and test BOW\n",
    "- comparing column names in train and test BOW"
   ]
  },
  {
   "cell_type": "code",
   "execution_count": 13,
   "metadata": {},
   "outputs": [
    {
     "name": "stdout",
     "output_type": "stream",
     "text": [
      "Number of columns in training BOW:  626\n",
      "Number of columns in testing BOW:  626\n",
      "\n",
      "Comparing if columns match..\n",
      "Column names match exactly, therefore no data leakage expected\n",
      "\n",
      "We now need to convert data into array/vector to use for model, an example of how this is done is below..\n",
      "When we convert full training df we should expect  1106  vectors - thats how many reviews in our training data frame.\n",
      "Checking on full training df we get.... 1106  vectors\n",
      "\n",
      "Few vector examples below...\n",
      "Review 1:  [0 0 0 1 0 0 0 0 0 0 0 0 0 0 0 0 0 0 0 0 0 0 0 0 0 0 0 0 0 0 0 0 0 0 0 0 0\n",
      " 0 0 0 0 1 0 0 0 0 1 0 0 0 0 0 0 0 0 0 0 0 0 0 0 0 0 0 0 0 1 0 0 0 0 0 0 0\n",
      " 0 0 0 0 0 0 0 0 0 0 0 0 0 0 0 0 0 0 0 0 0 0 0 0 0 0 0 0 0 0 0 0 0 0 0 0 1\n",
      " 0 0 0 0 0 0 0 0 0 0 0 0 0 0 0 0 0 0 0 0 0 0 0 0 0 0 0 0 0 0 0 0 3 0 0 0 0\n",
      " 0 0 0 0 0 0 1 0 0 0 0 0 0 0 1 0 0 0 0 0 0 0 0 0 0 0 0 0 0 0 0 0 0 0 0 0 0\n",
      " 0 0 0 0 0 0 0 0 0 0 0 0 0 0 1 0 0 0 0 0 0 0 0 0 0 0 0 0 0 0 0 0 0 0 0 0 0\n",
      " 1 0 0 0 0 0 0 0 0 0 0 0 1 0 0 0 0 0 0 0 0 0 0 0 0 0 0 0 0 0 0 0 0 0 0 0 0\n",
      " 0 0 0 0 0 0 0 0 0 0 0 0 0 0 0 0 0 0 0 0 0 0 0 0 0 0 0 0 0 0 0 0 0 0 0 0 0\n",
      " 0 0 0 0 0 0 0 0 0 0 0 1 0 0 0 0 0 1 0 1 0 1 0 0 0 0 0 0 0 0 0 0 0 0 0 0 1\n",
      " 0 0 0 0 0 0 0 0 0 0 0 0 0 0 0 0 1 0 1 1 0 0 0 0 0 0 0 0 0 0 0 0 0 0 0 0 0\n",
      " 0 0 0 0 0 0 1 0 0 0 0 1 0 0 0 0 0 0 0 0 0 0 0 0 0 0 0 0 0 0 0 0 0 0 0 0 0\n",
      " 0 0 0 0 0 0 0 0 0 0 0 0 0 2 0 0 0 0 0 0 0 0 0 0 0 0 0 0 1 0 0 0 0 0 0 0 1\n",
      " 0 0 0 0 0 0 0 0 0 0 0 0 0 0 0 1 0 0 0 0 0 0 0 0 0 0 0 0 0 0 0 0 0 0 0 0 0\n",
      " 0 0 0 0 0 0 0 0 0 0 0 0 0 0 0 0 0 1 0 0 0 0 0 0 0 0 0 0 0 0 0 1 0 0 0 0 0\n",
      " 0 0 0 0 0 0 0 0 0 0 0 0 0 0 0 0 0 0 0 0 0 0 0 0 0 0 0 1 0 0 0 0 0 0 0 0 0\n",
      " 0 0 0 0 0 0 0 0 0 0 0 0 0 0 0 0 2 0 0 0 0 0 0 0 0 0 0 0 1 0 0 0 0 0 0 0 0\n",
      " 0 0 1 0 0 0 0 0 0 0 0 0 0 0 0 0 0 0 0 0 0 0 0 0 0 1 0 0 0 0 0 0 0 0]\n",
      "Review 2:  [ 0  1  0  1  0  0  0  1  0  0  0  0  0  0  0  0  0  2  0  0  0  0  1  0\n",
      "  1  0  0  0  0  0  2  0  1  0  1  0  0  0  1  4  2  0  3  0  1  0  2  1\n",
      "  0  1  7  1  1  4  2  0  0  0  0  1  3  0  1  0  0  2  3  0  1  2  0  0\n",
      "  1  0  0  4  1  1  0  0  0  0  0  0  0  0  0  0  7  2  1  1  3  0  1  0\n",
      "  0  0  1  0  2  0  0  1  0  1  0  0  0  0  4  1  2  0  0  0  0  0  0  0\n",
      "  2  0  4  3  0  0  1  0  0  0  0  0  0  0  0  1  0  0  2  0  3  0  0  0\n",
      "  5  0  3  1  1  0  1  1  0  1  3  5  3  0  1  0  0  0  1  1  0  1  0  0\n",
      "  2  0  0  0  0  0  0  0  0  0  0  0  2  0  1  0  0  1  0  0  1  0  4  3\n",
      "  1  0  2  0  0  0  0  0  0  0  0  0  0  0  1  0  0  0  1  0  1  2  1  1\n",
      "  3  0  1  2  1  0  7  0  0  0  1  2  0  0  0  0  0  0  1  1  0  0  1  0\n",
      "  0  1  2  0  0  1  0  0  0  0  4  0  2  0  2  2  0  1  0  0  1  0  0  0\n",
      "  0  0  0  1  0  0  0  0  0  0  2  2  0  1  2  0  3  8  1  0  0  0  1  1\n",
      "  0  3  0  0  3  1  0  3  1  0  3  1  0  1  8  2  0  0  0  1  0  5  1  0\n",
      "  0  0  1  4  4  0  0  2  0  0  0  0  0  0  0  2  0  0  0  1  1  0  1  1\n",
      "  0  0  0  1  0  0  0  0  0  0  1  0  0  3  1  0  1  1  0  0  0  0  8  8\n",
      "  1  1  4  1  3  2  0  0  0  0  0  1  0  3  0  0  0  0  1  0  0  0  2  0\n",
      "  0  0  2  2  1  0  0  3  0  2  0  1  0  0  1  1  0  0  0  0  2  0  0  1\n",
      "  0  2  0  1  0  3  0  0  1  1  0  1  2  0  0  0  1  1  1  0  0  0  0  0\n",
      "  2  1  1  0  1  0  0  2  0  2  0  0  3  4  0  0  0  0  1  0  0  1  0  0\n",
      "  0  0  0  3  0  0  0  1  0  0  3  2  0  4  2  0  0  1  0  0  0  0  0  1\n",
      "  6  3  0  0  0  0  0  1  0  0  0  0  0  0  1  0  1  0  0  1  3  2  0  0\n",
      "  0  1  0  0  1  0  0  2  1  0  0  0  0  0  0  1  0  0  4  0  0  0  0  4\n",
      "  0  0  1  0  0  1  0  0  0  1  0  0  1  1  0  0  0  1  0  0  0  1  0  0\n",
      "  0  8  4  1  1 14  1  0  0  2  0  0  0  0  1  0  0  0  2  2  0  2  0  2\n",
      "  0 23  1  1  1  0  0  0  5  0  1  3 15  1  0  3  0  1  2  0  0  0  2  2\n",
      "  0  0  0  0  0  1  1  0  2  1  3  0  2  1  0  0  0 10  1  0  0  0  0  0\n",
      "  3  0]\n"
     ]
    }
   ],
   "source": [
    "print(\"Number of columns in training BOW: \", len(bagOFwords_train.columns))\n",
    "print(\"Number of columns in testing BOW: \", len(bagOFwords_test.columns))\n",
    "print()\n",
    "print(\"Comparing if columns match..\")\n",
    "if(list(bagOFwords_train.columns) ==list(bagOFwords_test.columns)):\n",
    "    print(\"Column names match exactly, therefore no data leakage expected\")\n",
    "else:\n",
    "    print(\"Column names do not match exactly, data leakage expected\")\n",
    "print()    \n",
    "print(\"We now need to convert data into array/vector to use for model, an example of how this is done is below..\")\n",
    "print(\"When we convert full training df we should expect \",len(train_x), \" vectors - thats how many reviews in our training data frame.\")\n",
    "print(\"Checking on full training df we get....\", len(np.asarray([np.asarray(bagOFwords_train)])[0]), \" vectors\")\n",
    "print()\n",
    "print(\"Few vector examples below...\")\n",
    "print(\"Review 1: \", np.asarray([np.asarray(bagOFwords_train)][0][0]))\n",
    "print(\"Review 2: \", np.asarray([np.asarray(bagOFwords_train)][0][1]))\n",
    "\n"
   ]
  },
  {
   "cell_type": "markdown",
   "metadata": {},
   "source": [
    "#### Step 2. Simple sentiment classifier\n",
    "1. Build classifier; as per spec Naive Bayes model\n",
    "2. Output confusion matrix"
   ]
  },
  {
   "cell_type": "code",
   "execution_count": 14,
   "metadata": {},
   "outputs": [
    {
     "name": "stdout",
     "output_type": "stream",
     "text": [
      "Accuracy of Naive Bayes model:  80.07 %\n"
     ]
    }
   ],
   "source": [
    "mnb=MultinomialNB()\n",
    "mnb.fit(bagOFwords_train,train_y)\n",
    "predicted = mnb.predict(bagOFwords_test)\n",
    "acc_score = accuracy_score(predicted,test_y)\n",
    "print(\"Accuracy of Naive Bayes model: \", round(acc_score*100,2), \"%\")"
   ]
  },
  {
   "cell_type": "code",
   "execution_count": 15,
   "metadata": {},
   "outputs": [
    {
     "data": {
      "text/plain": [
       "<matplotlib.axes._subplots.AxesSubplot at 0x1f609ffdcc8>"
      ]
     },
     "execution_count": 15,
     "metadata": {},
     "output_type": "execute_result"
    },
    {
     "data": {
      "image/png": "[encoded data removed]",
      "text/plain": [
       "<Figure size 432x288 with 2 Axes>"
      ]
     },
     "metadata": {
      "needs_background": "light"
     },
     "output_type": "display_data"
    }
   ],
   "source": [
    "conf_mat = confusion_matrix(predicted, test_y)\n",
    "group_names = ['True negative','False positive',\"False negative\",\"True positive\"]\n",
    "group_counts = ['{0:0.0f}'.format(value) for value in\n",
    "                conf_mat.flatten()]\n",
    "group_percentages = [\"{0:.2%}\".format(value) for value in\n",
    "                     conf_mat.flatten()/np.sum(conf_mat)]\n",
    "labels = [f\"{v1}\\n{v2}\\n{v3}\" for v1, v2, v3 in\n",
    "          zip(group_names,group_counts,group_percentages)]\n",
    "labels = np.asarray(labels).reshape(2,2)\n",
    "sn.heatmap(conf_mat, annot=labels, fmt=\"\", cmap='Blues')\n"
   ]
  }
 ],
 "metadata": {
  "kernelspec": {
   "display_name": "Python 3",
   "language": "python",
   "name": "python3"
  },
  "language_info": {
   "codemirror_mode": {
    "name": "ipython",
    "version": 3
   },
   "file_extension": ".py",
   "mimetype": "text/x-python",
   "name": "python",
   "nbconvert_exporter": "python",
   "pygments_lexer": "ipython3",
   "version": "3.7.7"
  }
 },
 "nbformat": 4,
 "nbformat_minor": 4
}

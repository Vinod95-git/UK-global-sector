{
  "nbformat": 4,
  "nbformat_minor": 0,
  "metadata": {
    "colab": {
      "name": "Copy of ScratchDash.ipynb",
      "provenance": [],
      "collapsed_sections": []
    },
    "kernelspec": {
      "name": "python3",
      "display_name": "Python 3"
    }
  },
  "cells": [
    {
      "cell_type": "code",
      "metadata": {
        "id": "ON8al2wYMrD_",
        "colab": {
          "base_uri": "https://localhost:8080/"
        },
        "outputId": "2f9f2b05-3e4a-4837-e4c0-ace8b8ed102b"
      },
      "source": [
        "!pip install -q jupyter-dash==0.3.0rc1 dash-bootstrap-components transformers"
      ],
      "execution_count": 1,
      "outputs": [
        {
          "output_type": "stream",
          "name": "stdout",
          "text": [
            "\u001b[K     |████████████████████████████████| 45 kB 2.1 MB/s \n",
            "\u001b[K     |████████████████████████████████| 209 kB 14.9 MB/s \n",
            "\u001b[K     |████████████████████████████████| 3.1 MB 55.3 MB/s \n",
            "\u001b[K     |████████████████████████████████| 7.3 MB 69.5 MB/s \n",
            "\u001b[K     |████████████████████████████████| 25.3 MB 55.1 MB/s \n",
            "\u001b[K     |████████████████████████████████| 3.3 MB 42.9 MB/s \n",
            "\u001b[K     |████████████████████████████████| 895 kB 73.8 MB/s \n",
            "\u001b[K     |████████████████████████████████| 596 kB 42.6 MB/s \n",
            "\u001b[K     |████████████████████████████████| 61 kB 565 kB/s \n",
            "\u001b[K     |████████████████████████████████| 357 kB 48.8 MB/s \n",
            "\u001b[?25h  Building wheel for dash-core-components (setup.py) ... \u001b[?25l\u001b[?25hdone\n",
            "  Building wheel for dash-html-components (setup.py) ... \u001b[?25l\u001b[?25hdone\n",
            "  Building wheel for dash-table (setup.py) ... \u001b[?25l\u001b[?25hdone\n"
          ]
        }
      ]
    },
    {
      "cell_type": "code",
      "metadata": {
        "colab": {
          "base_uri": "https://localhost:8080/",
          "height": 810
        },
        "id": "zeBNiPwfHpjx",
        "outputId": "305fdba6-4590-4699-d27a-dba7b0c6f31f"
      },
      "source": [
        "from jupyter_dash import JupyterDash\n",
        "import dash_bootstrap_components as dbc\n",
        "import dash_core_components as dcc\n",
        "import dash_html_components as html\n",
        "from dash.dependencies import Input, Output\n",
        "import plotly.graph_objs as go\n",
        "import numpy as np\n",
        "from datetime import datetime, timedelta\n",
        "import folium\n",
        "\n",
        "app = JupyterDash(__name__, suppress_callback_exceptions=True)\n",
        "\n",
        "# STYLING\n",
        "Index_STYLE = {\n",
        "    \"position\": \"fixed\",\n",
        "    \"top\": 8.2,\n",
        "    \"left\": 0,\n",
        "    \"bottom\": 0,\n",
        "    \"width\": \"16rem\",\n",
        "    \"padding\": \"2rem 1rem\",\n",
        "    \"background-color\": \"#2b2b2b\",\n",
        "\n",
        "}\n",
        "\n",
        "CONTENT_STYLE = {\n",
        "    \"background\": '#1f1f1f',\n",
        "    \"top\": 0,\n",
        "    \"margin-left\": \"17rem\",\n",
        "    \"margin-right\": \"8rem\",\n",
        "    \"padding\": \"2rem 1rem\",\n",
        "    \"textAlign\": \"center\",\n",
        "    \"color\":\"#999\"\n",
        "}\n",
        "\n",
        "sidebar = html.Div([\n",
        "    \n",
        "    html.H1('Covid-19 Dashboard'),\n",
        "    html.Br(),\n",
        "    html.Hr(),\n",
        "    dbc.Nav([\n",
        "    dbc.NavLink('UK Covid-19 summary', href='/page-4', style={'color':'#999'})\n",
        "    ])\n",
        "], style = Index_STYLE)\n",
        "\n",
        "home_page = html.Div([\n",
        "    \n",
        "    html.H1('Covid-19 Dashboard'),\n",
        "    html.Br(),\n",
        "    html.Br(),\n",
        "    html.Hr(),\n",
        "], style = CONTENT_STYLE)\n",
        "    \n",
        "# Page 4 layout UK covid Summary \n",
        "page_4_layout = html.Div([\n",
        "    html.H1('UK Covid-19 Summary'),\n",
        "    html.P('Data and insights on the UK domestic picture'),\n",
        "    html.Hr(),\n",
        "    html.Iframe(src=\"https://www.ons.gov.uk/visualisations/dvc914/map/index.html\",\n",
        "                style={\"height\": \"600px\", \"width\": \"80%\"}),\n",
        "    html.Div(id='page-4-content'),\n",
        "    ],style = CONTENT_STYLE)\n",
        "\n",
        "@app.callback(Output('page-4-content', 'children'),\n",
        "              [Input('page-4-radios', 'value')])\n",
        "def page_2_radios(value):\n",
        "    return 'You have selected \"{}\"'.format(value)\n",
        "\n",
        "# Update the index\n",
        "@app.callback(Output('page-content', 'children'),\n",
        "              [Input('url', 'pathname')])\n",
        "def display_page(pathname):\n",
        "    if pathname == '/page-4':\n",
        "        return page_4_layout\n",
        "    else:\n",
        "        return home_page\n",
        "    \n",
        "app.layout = html.Div([\n",
        "    dcc.Location(id='url', refresh=False), sidebar,\n",
        "    html.Div(id='page-content')\n",
        "])\n",
        "\n",
        "if __name__ == '__main__':\n",
        "    app.run_server(mode='inline')"
      ],
      "execution_count": 2,
      "outputs": [
        {
          "output_type": "stream",
          "name": "stderr",
          "text": [
            "/usr/local/lib/python3.7/dist-packages/ipykernel_launcher.py:3: UserWarning: \n",
            "The dash_core_components package is deprecated. Please replace\n",
            "`import dash_core_components as dcc` with `from dash import dcc`\n",
            "  This is separate from the ipykernel package so we can avoid doing imports until\n",
            "/usr/local/lib/python3.7/dist-packages/ipykernel_launcher.py:4: UserWarning: \n",
            "The dash_html_components package is deprecated. Please replace\n",
            "`import dash_html_components as html` with `from dash import html`\n",
            "  after removing the cwd from sys.path.\n"
          ]
        },
        {
          "output_type": "display_data",
          "data": {
            "application/javascript": [
              "(async (port, path, width, height, cache, element) => {\n",
              "    if (!google.colab.kernel.accessAllowed && !cache) {\n",
              "      return;\n",
              "    }\n",
              "    element.appendChild(document.createTextNode(''));\n",
              "    const url = await google.colab.kernel.proxyPort(port, {cache});\n",
              "    const iframe = document.createElement('iframe');\n",
              "    iframe.src = new URL(path, url).toString();\n",
              "    iframe.height = height;\n",
              "    iframe.width = width;\n",
              "    iframe.style.border = 0;\n",
              "    element.appendChild(iframe);\n",
              "  })(8050, \"/\", \"100%\", 650, false, window.element)"
            ],
            "text/plain": [
              "<IPython.core.display.Javascript object>"
            ]
          },
          "metadata": {}
        }
      ]
    }
  ]
}